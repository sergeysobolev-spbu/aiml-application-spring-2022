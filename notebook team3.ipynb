{
 "cells": [
  {
   "cell_type": "markdown",
   "id": "e6bd416d-bc74-4e6d-892b-196872cbf857",
   "metadata": {
    "tags": []
   },
   "source": [
    "# Simulated annealing"
   ]
  },
  {
   "cell_type": "markdown",
   "id": "729aecfb-b402-46f4-b8f7-3f4084b17259",
   "metadata": {},
   "source": [
    "**Simulated annealing (SA)** is a probabilistic technique for approximating the global optimum of a given function."
   ]
  },
  {
   "cell_type": "markdown",
   "id": "9abd1c2a-ed30-4ecb-bbf0-3f991280aaca",
   "metadata": {
    "jp-MarkdownHeadingCollapsed": true,
    "tags": []
   },
   "source": [
    "## The main idea of the method \n",
    "The idea of the method came from metal annealing, a process in which the metal is first heated and then gradually cooled.\\\n",
    "We iteratively select a point at which there can be a minimum and compare the value of the function in it with the value at the previous point. If the value is less, then we just move to a new point. If it is greater, then we move to a new point with some probability, which depends on the value of the parameter-temperature (the lower the temperature, the less likely the transition). Due to this, we can get out of local minima."
   ]
  },
  {
   "cell_type": "markdown",
   "id": "ca273694-b897-4238-993e-f926908a3751",
   "metadata": {},
   "source": [
    "## Input and output requirements\n",
    "**Input**\\\n",
    "Nodes are defined by their coordinates (X, Y) \\\n",
    "Inputs are defined as a text file with the following format \\\n",
    "Line 1: number of nodes \\\n",
    "Line 2 - N: node coordinate - X Y (one node per line).\\\n",
    "**Output**\\\n",
    "Text file with two lines: Line 1: total distance; if the solution is optimal (1) or not (0) Line 2: sequence of the solution route nodes\\\n",
    "Picture of the route\\"
   ]
  },
  {
   "cell_type": "markdown",
   "id": "590e426e-6551-49b5-9ed0-af20b1bf71cc",
   "metadata": {},
   "source": [
    "## Python implementation"
   ]
  },
  {
   "cell_type": "markdown",
   "id": "1e43f094-ec66-4626-a316-4d59941bf267",
   "metadata": {
    "tags": []
   },
   "source": [
    "## Imports\n",
    "numpy --> Used for math and logic operations on our data\\\n",
    "scipy --> Used to perform scientific and engineering calculations. Basinhopping is a stochastic algorithm which attempts to find the global minimum of a smooth scalar function of one or more variables\\\n",
    "mutplotlib --> Used for data visualisation, creating plots, graphs, ets"
   ]
  },
  {
   "cell_type": "code",
   "execution_count": 3,
   "id": "c73293ed-7f7a-43b8-a26e-5e7fed709d0f",
   "metadata": {},
   "outputs": [],
   "source": [
    "import numpy as np\n",
    "from scipy import optimize\n",
    "from scipy.optimize import basinhopping\n",
    "import matplotlib.pyplot as plt"
   ]
  },
  {
   "cell_type": "code",
   "execution_count": null,
   "id": "b5944708-e982-4451-9708-c9ce84539bba",
   "metadata": {},
   "outputs": [],
   "source": [
    "#the length of the path along the specified route\n",
    "def distance_along_the_route(points,route):\n",
    "  distance = 0\n",
    "  quantity_points = len(route)\n",
    "  #route = route[:len(route)-1]\n",
    "  for i in range(quantity_points-1):\n",
    "    distance = distance + np.sqrt((points[route[i]][0]-points[route[i+1]][0])**2+(points[route[i]][1]-points[route[i+1]][1])**2)\n",
    "  return distance"
   ]
  },
  {
   "cell_type": "code",
   "execution_count": null,
   "id": "3379100a-8244-4183-88d1-ae157edb6f2f",
   "metadata": {},
   "outputs": [],
   "source": [
    "#long distance is a big mistake\n",
    "def error(points,route): \n",
    "  return distance_along_the_route(points,route)# - 16"
   ]
  },
  {
   "cell_type": "code",
   "execution_count": null,
   "id": "bcaf72cc-949a-47cf-a0ba-47aa815a4b4f",
   "metadata": {},
   "outputs": [],
   "source": [
    "#adjacent route - swaps two random indexes\n",
    "def adjacent(route, rnd):\n",
    "  n = len(route)\n",
    "  result = np.copy(route)\n",
    "  i = rnd.randint(n) \n",
    "  j = rnd.randint(n)\n",
    "  tmp = result[i]\n",
    "  result[i] = result[j] \n",
    "  result[j] = tmp\n",
    "  return result"
   ]
  },
  {
   "cell_type": "markdown",
   "id": "0e0d82a3-a4a4-427e-bf7f-ee177fda0be7",
   "metadata": {},
   "source": [
    "The definition of the program-defined solve() function begins with:"
   ]
  },
  {
   "cell_type": "code",
   "execution_count": null,
   "id": "ab21fabc-dc79-4e21-b510-795df71bae6b",
   "metadata": {},
   "outputs": [],
   "source": [
    "#main function\n",
    "def solve(n_cities, rnd, max_iter, start_temperature, alpha, points):\n",
    "# solve with simulated annealing\n",
    "  curr_temperature = start_temperature\n",
    "  soln = np.arange(n_cities, dtype=np.int64)\n",
    "  rnd.shuffle(soln)\n",
    "  #print(\"Первоначальное предположение: \")\n",
    "  #print(soln)"
   ]
  },
  {
   "cell_type": "markdown",
   "id": "b28ba238-49b6-4fe8-976e-43679923f881",
   "metadata": {},
   "source": [
    "The arange(n) function (\"array-range\") creates a numpy array with values from 0 to n-1. The built-in shuffle() function scrambles the order of the values the soln array to produce an initial random guess solution."
   ]
  },
  {
   "cell_type": "markdown",
   "id": "a5abdbd8-0a4e-46db-9bf5-b2e0fb1a7a2c",
   "metadata": {
    "tags": []
   },
   "source": [
    "The main processing loop begins.\\\n",
    "The interval variable controls how often to display progress messages.The loop will terminate if max_iter iterations are reached or if the optimal solution is found, when the error of the current solution is 0."
   ]
  },
  {
   "cell_type": "markdown",
   "id": "37e9e927-7f44-4f25-81e2-85bc73931d3c",
   "metadata": {},
   "source": [
    "If the adjacent route is better than the current solution, the adjacent route is always accepted as the new solution. If the adjacent route is worse than the current solution, the adjacent route is sometimes accepted with probability controlled by the current temperature.\\\n",
    "Simulated annealing is a meta-heuristic, meaning it's a set of general guidelines rather than a rigidly defined algorithm. Therefore, there are many possible designs you can use."
   ]
  },
  {
   "cell_type": "code",
   "execution_count": null,
   "id": "50993fb1-8295-4693-8290-7cc8437a3683",
   "metadata": {},
   "outputs": [],
   "source": [
    "  err = error(points,soln)\n",
    "  iteration = 0\n",
    "  interval = (int)(max_iter / 10)    #frequency of displaying progress messages\n",
    "  while iteration < max_iter and err > 0.0:\n",
    "    adj_route = adjacent(soln, rnd)\n",
    "    adj_err = error(points,adj_route)\n",
    "    if adj_err < err: # the best route\n",
    "      soln = adj_route\n",
    "      err = adj_err\n",
    "    else:          # neighbors are worse\n",
    "      accept_p = np.exp((err - adj_err) / curr_temperature) #accept probability\n",
    "      p = rnd.random()\n",
    "      if p < accept_p:  \n",
    "        soln = adj_route\n",
    "        err = adj_err \n",
    "     # otherwise do not accept\n",
    "    if iteration % interval == 0:\n",
    "      print(\"iteration = %6d | error = %7.2f | temperature = %10.4f \" % (iteration, err, curr_temperature))\n",
    "    if curr_temperature < 0.00001:\n",
    "      curr_temperature = 0.00001\n",
    "    else:\n",
    "      curr_temperature *= alpha\n",
    "    iteration += 1\n",
    "  return soln"
   ]
  },
  {
   "cell_type": "markdown",
   "id": "c946f7f5-a968-45e3-a7fa-518e33bc6568",
   "metadata": {},
   "source": [
    "The solve() function concludes by displaying progress information, adjusting the current temperature and returning the current (hopefully best) solution.\\\n",
    "Because current temperature is used as the denominator in the expression for the accept-probability, it's necessary to prevent it from becoming 0."
   ]
  },
  {
   "cell_type": "code",
   "execution_count": 5,
   "id": "29fcedc5-a3ad-4771-bdb9-71597505633f",
   "metadata": {},
   "outputs": [],
   "source": [
    "#rendering\n",
    "def rendering(x,y,render):\n",
    "  if render != 0:\n",
    "    plt.plot(x, y)\n",
    "    plt.scatter(x, y, s=20, c='r')\n",
    "    plt.show()"
   ]
  },
  {
   "cell_type": "code",
   "execution_count": null,
   "id": "1e2ed9ef-ff9f-4987-9b3b-6858d420e99f",
   "metadata": {},
   "outputs": [],
   "source": [
    "#filename = 'C:/python11/spbgu/input.txt'\n",
    "filename = 'input.txt'\n",
    "render = 1\n",
    "x=[]\n",
    "y=[]\n",
    "points =[]\n",
    "quantity_points = 0"
   ]
  },
  {
   "cell_type": "code",
   "execution_count": null,
   "id": "d4d3049e-fc24-42e6-8663-8277c52b8151",
   "metadata": {},
   "outputs": [],
   "source": [
    "#reading from a file\n",
    "with open(filename, 'r') as f:\n",
    "    for line in f:\n",
    "        if quantity_points == 0:\n",
    "          quantity_points = int(line) \n",
    "        else:\n",
    "          points.append([int(line.split()[0]),int(line.split()[1])])\n",
    "          x.append(int(line.split()[0]))\n",
    "          y.append(int(line.split()[1]))\n",
    "\n",
    "route = list(range(0,quantity_points))"
   ]
  },
  {
   "cell_type": "code",
   "execution_count": 11,
   "id": "f148c91d-48f7-44c0-a34b-d7a8b8b70d05",
   "metadata": {},
   "outputs": [
    {
     "data": {
      "image/png": "[encoded data removed]",
      "text/plain": [
       "<Figure size 432x288 with 1 Axes>"
      ]
     },
     "metadata": {
      "needs_background": "light"
     },
     "output_type": "display_data"
    },
    {
     "name": "stdout",
     "output_type": "stream",
     "text": [
      "Начальный маршрут:\n",
      "[0, 1, 2, 3, 4, 5, 6, 7, 8, 9, 10, 11, 12, 13, 14]\n",
      "Начальный маршрут имеет общее расстояние = 412.714\n",
      "\n",
      "Настройки: \n",
      "max_iter = 2500 \n",
      "start_temperature = 10000.0 \n",
      "alpha = 0.99 \n",
      "\n",
      "\n",
      "iteration =      0 | error =  559.02 | temperature = 10000.0000 \n",
      "iteration =    250 | error =  431.27 | temperature =   810.5852 \n",
      "iteration =    500 | error =  457.20 | temperature =    65.7048 \n",
      "iteration =    750 | error =  330.56 | temperature =     5.3259 \n",
      "iteration =   1000 | error =  229.37 | temperature =     0.4317 \n",
      "iteration =   1250 | error =  223.93 | temperature =     0.0350 \n",
      "iteration =   1500 | error =  223.93 | temperature =     0.0028 \n",
      "iteration =   1750 | error =  223.93 | temperature =     0.0002 \n",
      "iteration =   2000 | error =  218.56 | temperature =     0.0000 \n",
      "iteration =   2250 | error =  215.76 | temperature =     0.0000 \n",
      "\n",
      "Найдено лучшее решение:\n",
      "[14 11  7 13  4  8  3  9 10 12  6  1  0  5  2]\n",
      "Общее расстояние = 215.760 \n"
     ]
    },
    {
     "data": {
      "image/png": "[encoded data removed]",
      "text/plain": [
       "<Figure size 432x288 with 1 Axes>"
      ]
     },
     "metadata": {
      "needs_background": "light"
     },
     "output_type": "display_data"
    }
   ],
   "source": [
    "#initial drawing of points\n",
    "rendering(x,y,render)\n",
    "################################################################   \n",
    "\n",
    "print(\"Начальный маршрут:\") \n",
    "print(route) \n",
    "print(\"Начальный маршрут имеет общее расстояние = %0.3f\" % distance_along_the_route(points,route)) \n",
    "rnd = np.random.RandomState(4) \n",
    "max_iter = 2500 \n",
    "start_temperature = 10000.0 \n",
    "alpha = 0.99    #The temperature decrease is controlled by the alpha value: T=T*alpha\n",
    "print(\"\\nНастройки: \") \n",
    "print(\"max_iter = %d \" % max_iter) \n",
    "print(\"start_temperature = %0.1f \" % start_temperature) \n",
    "print(\"alpha = %0.2f \" % alpha)\n",
    "#new_route=route\n",
    "print(\"\\n\")\n",
    "new_route = solve(quantity_points,rnd,max_iter,start_temperature,alpha,points) \n",
    "\n",
    "print(\"\\nНайдено лучшее решение:\") \n",
    "print(new_route) \n",
    "dist = distance_along_the_route(points,new_route)\n",
    "print(\"Общее расстояние = %0.3f \" % dist) \n",
    "#writing the result to a file\n",
    "#f = open('C:/python11/spbgu/output.txt', 'w')\n",
    "f = open('output.txt', 'w')\n",
    "f.write(str(dist)+'\\n')\n",
    "stri = ''\n",
    "for i in new_route:\n",
    "  stri = stri + str(i) + ' '\n",
    "f.write(stri)\n",
    "f.close()\n",
    "\n",
    "#end point rendering\n",
    "new_x = []\n",
    "new_y = []\n",
    "for i in range(len(new_route)):\n",
    "  new_x.append(x[new_route[i]])\n",
    "  new_y.append(y[new_route[i]])\n",
    "rendering(new_x,new_y,render)"
   ]
  },
  {
   "cell_type": "markdown",
   "id": "b397e094-e1a7-4faa-86c8-9154748ecb24",
   "metadata": {},
   "source": [
    "## Sources"
   ]
  },
  {
   "cell_type": "markdown",
   "id": "d05eec0f-1061-43d8-ac6d-351a53cc6dbb",
   "metadata": {},
   "source": [
    "[1] https://en.wikipedia.org/wiki/Simulated_annealing"
   ]
  },
  {
   "cell_type": "markdown",
   "id": "188434d2-ba9c-423b-ab7f-670c585022e5",
   "metadata": {},
   "source": [
    "[2] https://visualstudiomagazine.com/Articles/2021/12/01/traveling-salesman.aspx?Page=2"
   ]
  },
  {
   "cell_type": "markdown",
   "id": "637c5f05-7391-4a8f-b9bd-2184ead00abb",
   "metadata": {},
   "source": [
    "[3] https://habr.com/ru/post/209610/"
   ]
  }
 ],
 "metadata": {
  "kernelspec": {
   "display_name": "default:Python",
   "language": "python",
   "name": "conda-env-default-py"
  },
  "language_info": {
   "codemirror_mode": {
    "name": "ipython",
    "version": 3
   },
   "file_extension": ".py",
   "mimetype": "text/x-python",
   "name": "python",
   "nbconvert_exporter": "python",
   "pygments_lexer": "ipython3",
   "version": "3.9.7"
  }
 },
 "nbformat": 4,
 "nbformat_minor": 5
}
